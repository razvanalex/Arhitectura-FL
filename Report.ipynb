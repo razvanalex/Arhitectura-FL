{
 "cells": [
  {
   "cell_type": "markdown",
   "metadata": {},
   "source": [
    "# Rezultate obtinute"
   ]
  },
  {
   "cell_type": "markdown",
   "metadata": {},
   "source": [
    "## Scurta descriere\n",
    "\n",
    "Arhitectura este una de tip client-server, in care serverul realizeaza in mare parte agregarea de modele si mentine date despre clustere (numarul de clustere, componenta fiecarui cluster). Fiecare cluster va contine mai multi clienti, care au caracteristici similare si care vor participa in invatarea unui model per cluster, intr-o maniera similara cu cea din **FedAvg** (federated learning, in care agregarea se face realizand media ponderata a modelelor). Adaugarea unui nou client intr-un cluster se face printr-o coada \"de asteptare\" (wait queue), in care clientii vor fi adaugati dupa procesul de agregare (daca se adauga clienti in mod dinamic), sau inainte de a incepe orice operatie (cu clientii initiali).\n",
    "\n",
    "Prin aceasta arhitectura nu se face niciun schimb de date, ci doar de modele antrenate. Prin urmare, complexitatea realizarii comunicatiei se va raporta la numarul de modele trimise prin retea (care, in acest caz, creste in mod liniar cu numarul de runde). \n",
    "\n",
    "Pentru a creste securitatea si a scadea numarul de calcule efectuate, se foloseste un **denoise autoencoder** care invata o reprezentare a datelor pe mai putine dimensiuni (in cazul liniar, se comporta aproape la fel ca PCA - Principal Component Analysis; dar autoencoder-ul poate sa realizeze reducerea dimensiunilor si pe caz neliniar [1]).\n",
    "\n",
    "Serverul va retine atat un model global (care este antrenat pe datele publice, si care poate fi actualizat in procesul de invatare din fiecare cluster) si mai multe modele asociate fiecarui cluster. Predictia se poate realiza prin mai multe metode:\n",
    "* in cazul in care datele sunt in cadrul unui client dintr-un cluster, se aplica modelul invatat la client\n",
    "* in cazul in care datele sunt din afara \"cloud-ului\", se poate utiliza:\n",
    "    * modelul global\n",
    "    * toate modelele asociate clusterelor, si apoi sa se foloseasca un mecanism de votare/valoare maxima/valoare medie/etc"
   ]
  },
  {
   "cell_type": "markdown",
   "metadata": {},
   "source": [
    "## Initializare\n",
    "\n",
    "In procesul de initializare, se creaza un model global si apoi, pe baza acestui model, se creaza mai multe clustere. Algoritm:\n",
    "1. Serverul calculeaza un model generic pe date disponibil public\n",
    "2. Cand o parte dintre clienti se conecteaza la server, fiecare o sa primeasca modelul antrenat pe server\n",
    "3. Fiecare client antreneaza modelul cu datele pe care le detine\n",
    "4. Dupa antrenare, fiecare client trimite modelul $ m_i $ antrenat la server\n",
    "5. Serverul compara modelele si creaza clustere astfel (pseudocod):"
   ]
  },
  {
   "cell_type": "code",
   "execution_count": null,
   "metadata": {},
   "outputs": [],
   "source": [
    "for client in all_clients:\n",
    "    if len(clusters) == 0: # There are no clusters created\n",
    "        new_cluster = create_cluster(client) # Create a new cluster having only \"client\"\n",
    "        clusters.append(new_cluster)\n",
    "    else:\n",
    "        for c in clusters:\n",
    "            if c[model] is similar to m:\n",
    "                add_to_queue(c, client) # Add the client to the queue of cluster \"c\"\n",
    "                break\n",
    "        if no similar model found:\n",
    "            new_cluster = create_cluster(client) # Create a new cluster having only \"client\"\n",
    "            clusters.append(new_cluster)        "
   ]
  },
  {
   "cell_type": "markdown",
   "metadata": {},
   "source": [
    "## Wait queue\n",
    "Wait queue este folosit pentru a adauga noi clienti in cadrul unui cluster, in mod dinamic. In timpul procesului de invatare, se adauga clientii noi in coada asociata clusterului, iar dupa ce se termina runda de invatare, clientii sunt extrasi din coada si introdusi in cluster, unde vor participa la urmatoarele runde."
   ]
  },
  {
   "cell_type": "markdown",
   "metadata": {},
   "source": [
    "## Compararea similaritatii modelelor\n",
    "Intrucat nu se doreste partajarea datelor pentru a determina faptul ca mai multi clienti au caracterisici similare (de exemplu, folosind K-Means Clustering), se considera modelul ca un black-box si daca doi clienti au modele similare, atunci acestea ar trebui sa produca iesiri similare pe acelasi set de date. Important de notat ca datele clientilor, in general, sunt non-IID (non independent and identically distributed), deci functia invatata ar trebui sa produca iesiri biased.\n",
    "Formula folosinta pentru a alege clusterul din care face parte clientul, pe baza modelului invata si a modelelor existente deja pentru clustere, este:\n",
    "$$ c = argmin_{c \\in C} \\frac{1}{n} \\sum_{i=1}^n ||f(x_i) - g_c(x_i)||_2 $$\n",
    "unde,  \n",
    "$c$ - clusterul nou ales  \n",
    "$C$ - multime tuturor clusterelor  \n",
    "$n$ - numarul de exemple din setul de date  \n",
    "$f$ - modelul antrenat de client  \n",
    "$g_c$ - modelul clusterului $c$  \n",
    "\n",
    "De asemenea, se aleg doar acele valori care sunt mai mici decat un **threashold**, daca valoarea minima este foartea mare (e.g. 1000), modelele sunt complet diferite. Functia descrisa anterior calculeaza eroarea medie a iesirilor si alege clusterul in care modelul genereaza eroarea cea mai mica.  \n",
    "**Nota:** Datele $x_i$ trebuie sa fie distribuite IID pentru a putea determina corect clusterul din care face parte clientul."
   ]
  },
  {
   "cell_type": "markdown",
   "metadata": {},
   "source": [
    "## Invatarea in cadrul unui cluster\n",
    "1. Serverul alege un numar aleatoriu de clienti care sa participe la invatare in etapa (epoca) curenta\n",
    "2. Se trimite modelul agregat catre toti clientii alesi\n",
    "3. Fiecare client invata (folosint invatare prin transfer) pe datele pe care le are (aici se aplica noise asupra datelor + autoencoder pentru reducerea dimensiunilor)\n",
    "4. Modelul este partajat folosind MPC intre 2-3 parteneri (daca este posibil) pentru calcularea mediei modelelor (pas optional, se face pentru a creste securitatea)\n",
    "5. Se trimite modelul la server\n",
    "6. Severul face agregarea modelelor primite si se reia de la pasul 1."
   ]
  },
  {
   "cell_type": "markdown",
   "metadata": {},
   "source": [
    "## Arhitectura (retea neurala) utilizata in testare\n",
    "* Retea convolutionara, dimensiune kernel = 3\n",
    "* Activare folosind ReLU\n",
    "* Max pooling, dimensiune kernel = 2\n",
    "* Retea convolutionara, dimensiune kernel = 3\n",
    "* Activare folosind ReLU\n",
    "* Max pooling, dimensiune kernel = 2\n",
    "* Fully connected layer\n",
    "* Activare folosind ReLU\n",
    "* Fully connected layer\n",
    "* Activare folosind ReLU\n",
    "* Fully connected layer\n",
    "* Activare folosind log softmax"
   ]
  },
  {
   "cell_type": "markdown",
   "metadata": {},
   "source": [
    "## Arhitectura utilizata pentru autoencoder\n",
    "* 6 layer-e fully connected\n",
    "* functia de activare ReLU intre layer-e\n",
    "* la iesire, am testat cu functia sigmoid (+ normalizare date in (0, 1)) si tanh (setul de date era normalizat in (-1, 1))"
   ]
  },
  {
   "cell_type": "markdown",
   "metadata": {},
   "source": [
    "## Setul de date\n",
    "Date de la senzori de telefon (Samsung Galaxy S II), pentru recunoasterea activitatilor:  \n",
    "http://archive.ics.uci.edu/ml/datasets/Smartphone-Based+Recognition+of+Human+Activities+and+Postural+Transitions\n"
   ]
  },
  {
   "cell_type": "markdown",
   "metadata": {},
   "source": [
    "## Testarea\n",
    "Testarea s-a realizat in mai multe conditii:\n",
    "* diferite valori pentru parametrii de invatare (rata de invatare, numarul de epoci, batch size)\n",
    "* diferite arhitecturi de autoencorer (dimensiuni diferite pentru hidden layers) si valori diferite pentru epoci si batch size\n",
    "* numar diferit de clienti (5 clienti sau 10 clienti) cu seturi de date distribuite fie 1-la-1 (25 pentru server si 5 pentru clienti) fie 2-la-1 (15 pentru server si 10 pentru clieti) (setul de date contine date de la 30 de persoane)\n",
    "* cu sau fara layer de personalizare (era ultimul layer fully-connected si care nu se modifica)\n",
    "\n",
    "### Grafice (o parte din rulari)\n",
    "* 5 clienti, 10 epoci FL, 5 clustere, fara layer de personalizare, fara autoencoder, distributie date 1-la-1\n",
    "<img src=\"IMG1.png\">\n",
    "\n",
    "* 5 clienti, 20 epoci FL, 5 clustere, fara layer de personalizare, fara autoencoder, distributie date 2-la-1\n",
    "<img src=\"IMG2.png\">\n",
    "\n",
    "* 10 clienti, 20 epoci FL, 7 clustere, fara layer de personalizare, fara autoencoder, distributie date 1-la-1\n",
    "<img src=\"IMG3.png\">\n",
    "\n",
    "* 5 clienti, 10 epoci FL, 2 clustere, cu layer de personalizare, cu autoencoder, distributie date 1-la-1\n",
    "<img src=\"IMG4.png\">"
   ]
  },
  {
   "cell_type": "markdown",
   "metadata": {},
   "source": [
    "## Referinta\n",
    "[1] https://stats.stackexchange.com/a/120096"
   ]
  }
 ],
 "metadata": {
  "kernelspec": {
   "display_name": "Python 3",
   "language": "python",
   "name": "python3"
  },
  "language_info": {
   "codemirror_mode": {
    "name": "ipython",
    "version": 3
   },
   "file_extension": ".py",
   "mimetype": "text/x-python",
   "name": "python",
   "nbconvert_exporter": "python",
   "pygments_lexer": "ipython3",
   "version": "3.6.9"
  }
 },
 "nbformat": 4,
 "nbformat_minor": 4
}
